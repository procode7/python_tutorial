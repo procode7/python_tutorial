{
 "cells": [
  {
   "cell_type": "markdown",
   "metadata": {},
   "source": [
    "### 1. Python Syntax\n"
   ]
  },
  {
   "cell_type": "code",
   "execution_count": 2,
   "metadata": {},
   "outputs": [
    {
     "name": "stdout",
     "output_type": "stream",
     "text": [
      "Hi      there\n"
     ]
    }
   ],
   "source": [
    "\n",
    "print(\"Hi\\\n",
    "      there\")"
   ]
  },
  {
   "cell_type": "code",
   "execution_count": 3,
   "metadata": {},
   "outputs": [
    {
     "name": "stdout",
     "output_type": "stream",
     "text": [
      "hi\n",
      "there\n"
     ]
    }
   ],
   "source": [
    "print(\"\"\"hi\n",
    "there\"\"\")"
   ]
  },
  {
   "cell_type": "code",
   "execution_count": 4,
   "metadata": {},
   "outputs": [
    {
     "data": {
      "text/plain": [
       "'hithere'"
      ]
     },
     "execution_count": 4,
     "metadata": {},
     "output_type": "execute_result"
    }
   ],
   "source": [
    "# can’t use backslashes inside a docstring for statements dat aren’t a string\n",
    "\"\"\"hi\\\n",
    "there\"\"\""
   ]
  },
  {
   "cell_type": "code",
   "execution_count": 6,
   "metadata": {},
   "outputs": [
    {
     "name": "stdout",
     "output_type": "stream",
     "text": [
      "hi\n"
     ]
    }
   ],
   "source": [
    "# Docstring in python\n",
    "def func():\n",
    "    \"\"\"\n",
    "    this function prints Hi\n",
    "    \"\"\"\n",
    "    print(\"hi\")\n",
    "func()"
   ]
  },
  {
   "cell_type": "code",
   "execution_count": 7,
   "metadata": {},
   "outputs": [
    {
     "name": "stdout",
     "output_type": "stream",
     "text": [
      "10\n"
     ]
    }
   ],
   "source": [
    "# multistatement in one line\n",
    "a=10;print(a)"
   ]
  },
  {
   "cell_type": "code",
   "execution_count": 9,
   "metadata": {},
   "outputs": [
    {
     "name": "stdout",
     "output_type": "stream",
     "text": [
      "we need a chaperon\n"
     ]
    }
   ],
   "source": [
    "print(\"we need a chaperon\")"
   ]
  },
  {
   "cell_type": "code",
   "execution_count": 10,
   "metadata": {},
   "outputs": [
    {
     "name": "stdout",
     "output_type": "stream",
     "text": [
      "we need a 'chaperon'\n"
     ]
    }
   ],
   "source": [
    "print(\"we need a 'chaperon'\")"
   ]
  },
  {
   "cell_type": "code",
   "execution_count": 25,
   "metadata": {},
   "outputs": [
    {
     "name": "stdout",
     "output_type": "stream",
     "text": [
      "the values of a = 10\n",
      "value of a is = 10\n",
      "the value of a = 10\n"
     ]
    }
   ],
   "source": [
    "#python string formatter\n",
    "\n",
    "# % operator \n",
    "print(\"the values of a = %s\" % (a))\n",
    "# Format Method\n",
    "print(\"value of a is = {0}\".format(a))\n",
    "print(\"the value of a = {a}\".format(a=10))"
   ]
  },
  {
   "cell_type": "markdown",
   "metadata": {},
   "source": [
    "### 2. variables and data types"
   ]
  },
  {
   "cell_type": "code",
   "execution_count": 27,
   "metadata": {},
   "outputs": [
    {
     "name": "stdout",
     "output_type": "stream",
     "text": [
      "21 app\n"
     ]
    }
   ],
   "source": [
    "# multiple assignmets\n",
    "age,name = 21,'app'\n",
    "print(age,name)"
   ]
  },
  {
   "cell_type": "code",
   "execution_count": 28,
   "metadata": {},
   "outputs": [],
   "source": [
    "# Deleting variables\n",
    "del age"
   ]
  },
  {
   "cell_type": "code",
   "execution_count": 29,
   "metadata": {},
   "outputs": [
    {
     "name": "stdout",
     "output_type": "stream",
     "text": [
      "<class 'int'> <class 'float'> <class 'complex'>\n"
     ]
    }
   ],
   "source": [
    "# python Numbers\n",
    "a=1\n",
    "b=1.0\n",
    "c = 2+3j\n",
    "\n",
    "print(type(a),type(b),type(c))"
   ]
  },
  {
   "cell_type": "code",
   "execution_count": 34,
   "metadata": {},
   "outputs": [
    {
     "data": {
      "text/plain": [
       "'eng'"
      ]
     },
     "execution_count": 34,
     "metadata": {},
     "output_type": "execute_result"
    }
   ],
   "source": [
    "# tuples are immutable\n",
    "subjects =('eng','maths')\n",
    "subjects[0]\n",
    "#subjects[0]= 'bio'"
   ]
  },
  {
   "cell_type": "code",
   "execution_count": 40,
   "metadata": {},
   "outputs": [
    {
     "data": {
      "text/plain": [
       "dict_keys(['city', 'age'])"
      ]
     },
     "execution_count": 40,
     "metadata": {},
     "output_type": "execute_result"
    }
   ],
   "source": [
    "#Dictionaries\n",
    "person={'city':'Goa','age':7}\n",
    "type(person)\n",
    "person['city'] \n",
    "#list of keys\n",
    "person.keys()"
   ]
  },
  {
   "cell_type": "code",
   "execution_count": 41,
   "metadata": {},
   "outputs": [
    {
     "data": {
      "text/plain": [
       "bool"
      ]
     },
     "execution_count": 41,
     "metadata": {},
     "output_type": "execute_result"
    }
   ],
   "source": [
    "# boolean\n",
    "a = 2>1\n",
    "type(a)"
   ]
  },
  {
   "cell_type": "code",
   "execution_count": 46,
   "metadata": {},
   "outputs": [
    {
     "data": {
      "text/plain": [
       "{1, 2, 3, 5}"
      ]
     },
     "execution_count": 46,
     "metadata": {},
     "output_type": "execute_result"
    }
   ],
   "source": [
    "# sets\n",
    "a = {1,2,3,4}\n",
    "a\n",
    "# set is unordered so doesn't suppport indexing\n",
    "a.remove(4)\n",
    "a.add(5)\n",
    "a.add(5)\n",
    "a"
   ]
  },
  {
   "cell_type": "code",
   "execution_count": 68,
   "metadata": {},
   "outputs": [
    {
     "name": "stdout",
     "output_type": "stream",
     "text": [
      "3 1 1.0 0.02011 2.1 True {1, 2, 3} ['1', '2', '3'] [1, 2, 3] (1, 2, 3) (1, 2)\n"
     ]
    }
   ],
   "source": [
    "# Type Conversion\n",
    "print(int(3.7),\n",
    "int(True),\n",
    "float(1),\n",
    "float(2.011e-2),\n",
    "str(2.1),\n",
    "bool(0.1),\n",
    "set([1,2,3]),\n",
    "list(\"123\"),\n",
    "list({1,2,2,3}),\n",
    "tuple({1,2,2,3}),\n",
    "tuple(list(set([1,2]))))"
   ]
  },
  {
   "cell_type": "code",
   "execution_count": 96,
   "metadata": {},
   "outputs": [
    {
     "name": "stdout",
     "output_type": "stream",
     "text": [
      "x:1,y:3\n"
     ]
    }
   ],
   "source": [
    "# Global Variables\n",
    "# When you declare a variable outside any context/scope, it is visible in teh whole program.\n",
    "x = 1\n",
    "def func1():\n",
    "    y =3\n",
    "    global x\n",
    "    \n",
    "    def funce2():\n",
    "        nonlocal y \n",
    "    print(f\"x:{x},y:{y}\")\n",
    "   \n",
    "\n",
    "func1()\n",
    "\n",
    "#print(\"func:{0} value:{1}\".format(func1(),x))"
   ]
  },
  {
   "cell_type": "markdown",
   "metadata": {},
   "source": [
    "### 3. Python Namespace and Variable Scope"
   ]
  },
  {
   "cell_type": "code",
   "execution_count": 74,
   "metadata": {},
   "outputs": [
    {
     "data": {
      "text/plain": [
       "498953280"
      ]
     },
     "execution_count": 74,
     "metadata": {},
     "output_type": "execute_result"
    }
   ],
   "source": [
    "rank=1\n",
    "id(rank)"
   ]
  },
  {
   "cell_type": "code",
   "execution_count": 75,
   "metadata": {},
   "outputs": [
    {
     "data": {
      "text/plain": [
       "498953280"
      ]
     },
     "execution_count": 75,
     "metadata": {},
     "output_type": "execute_result"
    }
   ],
   "source": [
    "id(1)"
   ]
  },
  {
   "cell_type": "code",
   "execution_count": 97,
   "metadata": {},
   "outputs": [],
   "source": [
    "# there are three types of namesapace- global, local, and built-in.\n",
    "# Current function’s variable scope- has local names\n",
    "# Module’s variable scope- has global names\n",
    "# The outermost variable scope- has built-in names\n"
   ]
  },
  {
   "cell_type": "markdown",
   "metadata": {},
   "source": [
    "### 4. Python Operator — Types of Operators in Python"
   ]
  },
  {
   "cell_type": "code",
   "execution_count": 98,
   "metadata": {},
   "outputs": [
    {
     "data": {
      "text/plain": [
       "32"
      ]
     },
     "execution_count": 98,
     "metadata": {},
     "output_type": "execute_result"
    }
   ],
   "source": [
    "# Exponentiation(**)\n",
    "2**5"
   ]
  },
  {
   "cell_type": "code",
   "execution_count": 99,
   "metadata": {},
   "outputs": [
    {
     "data": {
      "text/plain": [
       "1"
      ]
     },
     "execution_count": 99,
     "metadata": {},
     "output_type": "execute_result"
    }
   ],
   "source": [
    "# Divides and returns the integer value of the quotient. It dumps the digits after the decimal.\n",
    "4//3"
   ]
  },
  {
   "cell_type": "code",
   "execution_count": 101,
   "metadata": {},
   "outputs": [
    {
     "data": {
      "text/plain": [
       "0"
      ]
     },
     "execution_count": 101,
     "metadata": {},
     "output_type": "execute_result"
    }
   ],
   "source": [
    "# Modulus(%)\n",
    "#Divides and returns teh value of teh remainder.\n",
    "\n",
    "24 % 4"
   ]
  },
  {
   "cell_type": "code",
   "execution_count": 102,
   "metadata": {},
   "outputs": [
    {
     "data": {
      "text/plain": [
       "False"
      ]
     },
     "execution_count": 102,
     "metadata": {},
     "output_type": "execute_result"
    }
   ],
   "source": [
    "# Python Relational Operator\n",
    "# Notequal to\n",
    "1!=1.0"
   ]
  },
  {
   "cell_type": "code",
   "execution_count": 111,
   "metadata": {},
   "outputs": [
    {
     "data": {
      "text/plain": [
       "1.0"
      ]
     },
     "execution_count": 111,
     "metadata": {},
     "output_type": "execute_result"
    }
   ],
   "source": [
    "a=1\n",
    "a+=2\n",
    "a\n",
    "a-=2\n",
    "a\n",
    "a/=2\n",
    "a\n",
    "a*=3\n",
    "a\n",
    "a**=2\n",
    "a\n",
    "a//=2\n",
    "a"
   ]
  },
  {
   "cell_type": "code",
   "execution_count": 115,
   "metadata": {},
   "outputs": [
    {
     "name": "stdout",
     "output_type": "stream",
     "text": [
      "yes\n",
      "True\n"
     ]
    }
   ],
   "source": [
    "#Python Logical Operator\n",
    "#AND\n",
    "if(1<2) and (6>4):\n",
    "    print(\"yes\")\n",
    "#OR\n",
    "x=1>2 or 4>3\n",
    "x\n",
    "#NOT\n",
    "a=not(0)\n",
    "print(a)"
   ]
  },
  {
   "cell_type": "code",
   "execution_count": 117,
   "metadata": {},
   "outputs": [
    {
     "name": "stdout",
     "output_type": "stream",
     "text": [
      "True\n",
      "False\n"
     ]
    }
   ],
   "source": [
    "# Membership Python Operator\n",
    "# in\n",
    "lst = ['a','b']\n",
    "z='a' in lst\n",
    "print(z)\n",
    "z= 'a' not in lst\n",
    "print(z)"
   ]
  },
  {
   "cell_type": "code",
   "execution_count": 121,
   "metadata": {},
   "outputs": [
    {
     "data": {
      "text/plain": [
       "True"
      ]
     },
     "execution_count": 121,
     "metadata": {},
     "output_type": "execute_result"
    }
   ],
   "source": [
    "# Python Identity Operator\n",
    "'2' is '2'\n",
    "2 is not '2'"
   ]
  },
  {
   "cell_type": "code",
   "execution_count": 130,
   "metadata": {},
   "outputs": [
    {
     "data": {
      "text/plain": [
       "2"
      ]
     },
     "execution_count": 130,
     "metadata": {},
     "output_type": "execute_result"
    }
   ],
   "source": [
    "# Python Bitwise Operator\n",
    "# AND\n",
    "2&3\n",
    "3&4\n",
    "# OR\n",
    "2|3\n",
    "# XOR\n",
    "3 ^ 4\n",
    "# Binary One’s Complement(~)\n",
    "~3\n",
    "# Binary Left-Shift(<<)\n",
    "2<<2\n",
    "# Binary Right-Shift(>>)\n",
    "8>>2"
   ]
  },
  {
   "cell_type": "markdown",
   "metadata": {},
   "source": [
    "### 5. Python Data Structures – Lists, Tuples, Sets, Dictionaries"
   ]
  },
  {
   "cell_type": "code",
   "execution_count": 138,
   "metadata": {},
   "outputs": [
    {
     "data": {
      "text/plain": [
       "['C++', 'Python', 'Scratch', 1]"
      ]
     },
     "execution_count": 138,
     "metadata": {},
     "output_type": "execute_result"
    }
   ],
   "source": [
    "# LIST\n",
    "languages=['C++','Python','Scratch',1,('app',23),False\n",
    "          ] # You can put any kind of value in a list.\n",
    "languages\n",
    "# accessing list\n",
    "languages[1]\n",
    "languages[-2]\n",
    "# Slicing a list\n",
    "languages[1:4] # 1st to 3rd element\n",
    "languages[:-2]"
   ]
  },
  {
   "cell_type": "code",
   "execution_count": null,
   "metadata": {},
   "outputs": [],
   "source": []
  }
 ],
 "metadata": {
  "kernelspec": {
   "display_name": "Python 3",
   "language": "python",
   "name": "python3"
  },
  "language_info": {
   "codemirror_mode": {
    "name": "ipython",
    "version": 3
   },
   "file_extension": ".py",
   "mimetype": "text/x-python",
   "name": "python",
   "nbconvert_exporter": "python",
   "pygments_lexer": "ipython3",
   "version": "3.6.5"
  }
 },
 "nbformat": 4,
 "nbformat_minor": 2
}
